{
 "cells": [
  {
   "cell_type": "code",
   "execution_count": 1,
   "metadata": {},
   "outputs": [],
   "source": [
    "# add dependencies\n",
    "import pandas as pd\n",
    "import os\n",
    "import datetime\n",
    "import matplotlib.pyplot as plt\n",
    "import numpy as np\n",
    "import time\n",
    "%matplotlib inline\n",
    "from matplotlib import style\n",
    "style.use('fivethirtyeight')\n",
    "import seaborn as sns\n",
    "\n",
    "from sqlalchemy import create_engine\n",
    "from sqlalchemy.orm import Session\n",
    "from sqlalchemy.ext.declarative import declarative_base\n",
    "Base = declarative_base()\n",
    "from sqlalchemy.ext.automap import automap_base\n",
    "\n",
    "from sqlalchemy import Column, Integer, String, Float, and_, Date, desc, func\n",
    "\n",
    "from flask import Flask, jsonify"
   ]
  },
  {
   "cell_type": "code",
   "execution_count": 2,
   "metadata": {},
   "outputs": [
    {
     "data": {
      "text/plain": [
       "['measurement', 'station']"
      ]
     },
     "execution_count": 2,
     "metadata": {},
     "output_type": "execute_result"
    }
   ],
   "source": [
    "# Database Setup\n",
    "engine = create_engine(\"sqlite:///Resources/hawaii.sqlite\")\n",
    "\n",
    "# reflect an existing database into a new model\n",
    "Base = automap_base()\n",
    "# reflect the tables\n",
    "Base.prepare(engine, reflect=True)\n",
    "\n",
    "Base.classes.keys()"
   ]
  },
  {
   "cell_type": "code",
   "execution_count": 3,
   "metadata": {},
   "outputs": [],
   "source": [
    "# Create our session (link) from Python to the DB\n",
    "session = Session(engine)\n",
    "\n",
    "# Save references to the invoices and invoice_items tables\n",
    "Station = Base.classes.station\n",
    "Measurement = Base.classes.measurement\n",
    "\n",
    "# Flask Setup\n",
    "app = Flask(__name__)"
   ]
  },
  {
   "cell_type": "code",
   "execution_count": 4,
   "metadata": {},
   "outputs": [
    {
     "name": "stdout",
     "output_type": "stream",
     "text": [
      " * Serving Flask app \"__main__\" (lazy loading)\n",
      " * Environment: production\n",
      "   WARNING: Do not use the development server in a production environment.\n",
      "   Use a production WSGI server instead.\n",
      " * Debug mode: on\n"
     ]
    },
    {
     "name": "stderr",
     "output_type": "stream",
     "text": [
      " * Restarting with stat\n"
     ]
    },
    {
     "ename": "SystemExit",
     "evalue": "1",
     "output_type": "error",
     "traceback": [
      "An exception has occurred, use %tb to see the full traceback.\n",
      "\u001b[1;31mSystemExit\u001b[0m\u001b[1;31m:\u001b[0m 1\n"
     ]
    },
    {
     "name": "stderr",
     "output_type": "stream",
     "text": [
      "C:\\Users\\cblas\\Anaconda1\\lib\\site-packages\\IPython\\core\\interactiveshell.py:3304: UserWarning: To exit: use 'exit', 'quit', or Ctrl-D.\n",
      "  warn(\"To exit: use 'exit', 'quit', or Ctrl-D.\", stacklevel=1)\n"
     ]
    }
   ],
   "source": [
    "@app.route(\"/\")\n",
    "def welcome():\n",
    "\n",
    "     return (\n",
    "         f\"Avalable Routes:<br/>\"\n",
    "         f\"/api/v1.0/precipitation\"\n",
    "         f\"- Dates and temperature observations from the last year<br/>\"\n",
    "\n",
    "         f\"/api/v1.0/stations\"\n",
    "         f\"- List of stations<br/>\"\n",
    "\n",
    "         f\"/api/v1.0/tobs\"\n",
    "         f\"- Temperature Observations from the past year<br/>\"\n",
    "\n",
    "         f\"/api/v1.0/<start>\"\n",
    "         f\"- Minimum temperature, the average temperature, and the max temperature for a given start day<br/>\"\n",
    "\n",
    "         f\"/api/v1.0/<start>/<end>\"\n",
    "         f\"- Minimum temperature, the average temperature, and the max temperature for a given start-end range<br/>\"\n",
    "     )\n",
    "\n",
    "@app.route(\"/api/v1.0/precipitation\")\n",
    "def pcrp():\n",
    "    # create the date range, use today as the api here does not take a start/end date\n",
    "    today = datetime.datetime.today()\n",
    "    today = today.date()\n",
    "    last_year = today - datetime.timedelta(365)\n",
    "    pcp_year = session.query(Measurement.date, Measurement.prcp).filter(and_(Measurement.date <= today, Measurement.date >= last_year)).all()\n",
    "    return jsonify(pcp_year)\n",
    "\n",
    "@app.route(\"/api/v1.0/stations\")\n",
    "def station_list():\n",
    "    st_list = session.query(Station.station).all()\n",
    "\n",
    "    all_stations= list(np.ravel(st_list))\n",
    "\n",
    "    return jsonify(all_stations)\n",
    "\n",
    "@app.route(\"/api/v1.0/tobs\")\n",
    "def temp_year():\n",
    "    # create the date range, use today as the api here does not take a start/end date\n",
    "    today = datetime.datetime.today()\n",
    "    today = today.date()\n",
    "    last_year = today - datetime.timedelta(365)\n",
    "    temp_year = session.query(Measurement.date, Measurement.tobs).filter(and_(Measurement.date <= today, Measurement.date >= last_year)).all()\n",
    "\n",
    "    return jasonify(temp_year)\n",
    "\n",
    "@app.route(\"/api/v1.0/<start>\")\n",
    "def start_temp(start):\n",
    "    # get the min/avg/max\n",
    "    temp_data = session.query(func.min(Measurement.tobs), func.avg(Measurement.tobs), func.max(Measurement.tobs)).filter(Measurement.date >= start).all()\n",
    "    \n",
    "    return jsonify(temp_data)\n",
    "\n",
    "    \n",
    "\n",
    "@app.route(\"/api/v1.0/<start>/<end>\")\n",
    "def range_temp(start, end):\n",
    " # get the min/avg/max\n",
    "    temp_data = session.query(func.min(Measurement.tobs), func.avg(Measurement.tobs), func.max(Measurement.tobs)).filter(and_(Measurement.date >= start, Measurement.date <= end)).all()\n",
    "    \n",
    "    return jsonify(temp_data)\n",
    "\n",
    "if __name__ == '__main__':\n",
    "    app.run(debug=True)"
   ]
  },
  {
   "cell_type": "code",
   "execution_count": null,
   "metadata": {},
   "outputs": [],
   "source": []
  }
 ],
 "metadata": {
  "kernelspec": {
   "display_name": "Python 3",
   "language": "python",
   "name": "python3"
  },
  "language_info": {
   "codemirror_mode": {
    "name": "ipython",
    "version": 3
   },
   "file_extension": ".py",
   "mimetype": "text/x-python",
   "name": "python",
   "nbconvert_exporter": "python",
   "pygments_lexer": "ipython3",
   "version": "3.7.3"
  }
 },
 "nbformat": 4,
 "nbformat_minor": 2
}
